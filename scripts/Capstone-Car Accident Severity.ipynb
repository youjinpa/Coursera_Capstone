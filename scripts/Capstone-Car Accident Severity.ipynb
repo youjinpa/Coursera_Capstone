{
 "cells": [
  {
   "cell_type": "code",
   "execution_count": 1,
   "metadata": {},
   "outputs": [],
   "source": [
    "# import library\n",
    "import itertools\n",
    "import matplotlib.pyplot as plt\n",
    "from matplotlib.ticker import NullFormatter\n",
    "import pandas as pd\n",
    "import numpy as np\n",
    "#import matplotlib.ticker as ticker\n",
    "from sklearn import preprocessing\n",
    "%matplotlib inline\n",
    "\n"
   ]
  },
  {
   "cell_type": "markdown",
   "metadata": {},
   "source": [
    "# About the Data Set\n",
    "This dataset is about Collisions-all years. The __Data-Collisons.csv__ data set includes details of 37 attributes and severity (5 category, 3/2b/2/1/0). It includes following fields:"
   ]
  },
  {
   "cell_type": "markdown",
   "metadata": {},
   "source": [
    "| Field          | Data Type, Length      | Description                                                                  |\n",
    "|----------------|-------------------------------------------------------------------------------------------------------|\n",
    "| OBJECTID       | ObjectID               | ESRI unique identifier                                                       |\n",
    "| SHAPE          | Geometry               | ESRI geometry field                                                          |\n",
    "| INCKEY         | Long                   | A unique key for the incident                                                |\n",
    "| COLDETKEY      | Long                   | Secondary key for the incident                                               |\n",
    "| ADDRTYPE       | Text, 12               | Collision address type:                                                      |\n",
    "|                |                        |           • Alley                                                            |\n",
    "|                |                        |           • Block                                                            |\n",
    "|                |                        |           • Intersection                                                     |\n",
    "| INTKEY         | Double                 | Key that corresponds to the intersection associated with a collision         |\n",
    "| LOCATION       | Text, 255              | Description of the general location of the                                   |\n",
    "| EXCEPTRSNCODE  | Text, 10               |                                                                              |\n",
    "| EXCEPTRSNDESC  | Text, 300              |                                                                              |\n",
    "| SEVERITYCODE   | Text, 100              | A code that corresponds to the severity of the collision:                    |\n",
    "|                |                        |            • 3—fatality                                                      |\n",
    "|                |                        |            • 2b—serious injury                                               |\n",
    "|                |                        |            • 2—injury                                                        |\n",
    "|                |                        |            • 1—prop damage                                                   |\n",
    "|                |                        |            • 0—unknown                                                       |\n",
    "| SEVERITYDESC   | Text                   | A detailed description of the severity of the collision                      |\n",
    "| COLLISIONTYPE  | Text, 300              | Collision type                                                               |\n",
    "| PERSONCOUNT    | Double                 | The total number of people involved in the collision                         |\n",
    "| PEDCOUNT       | Double                 | The number of pedestrians involved in the collision                          |\n",
    "| PEDCYLCOUNT    | Double                 | The number of bicycles involved in the collision                             |\n",
    "| VEHCOUNT       | Double                 | The number of vehicles involved in the collision                             |\n",
    "| INJURIES       | Double                 | The number of total injuries in the collision                                |\n",
    "| SERIOUSINJURIES| Double                 | The number of serious injuries in the collision                              |\n",
    "| FATALITIES     | Double                 | The number of fatalities in the collision                                    |\n",
    "| INCDATE        | Date                   | The date of the incident.                                                    |\n",
    "| INCDTTM        | Text, 30               | The date and time of the incident.                                           |\n",
    "| JUNCTIONTYPE   | Text, 300              | Category of junction at which collision took place                           |\n",
    "| SDOT_COLCODE   | Text, 10               | A code given to the collision by SDOT.                                       |\n",
    "| SDOT_COLDESC   | Text, 300              | A description of the collision corresponding to collision code               |\n",
    "| INATTENTIONIND | Text, 1                | Whether or not collision was due to inattention. (Y/N)                       |\n",
    "| UNDERINFL      | Text, 10               | Whether or not a driver involved was under the influence of                  |\n",
    "|                |                        | drugs or alcohol.                                                            |\n",
    "| WEATHER        | Text, 300              | A description of the weather conditions during the time of the collision.    |\n",
    "| ROADCOND       | Text, 300              | The condition of the road during the collision.                              |\n",
    "| LIGHTCOND      | Text, 300              | The light conditions during the collision.                                   |\n",
    "| PEDROWNOTGRNT  | Text, 1                | Whether or not the pedestrian right of way was not granted. (Y/N)            |\n",
    "| SDOTCOLNUM     | Text, 10               | A number given to the collision by SDOT.                                     |\n",
    "| SPEEDING       | Text, 1                | Whether or not speeding was a factor in the collision. (Y/N)                 |\n",
    "| ST_COLCODE     | Text, 10               | A code provided by the state that describes the collision.                   |\n",
    "|                |                        | For more information about these codes, please see the State Collision Code  |\n",
    "|                |                        | Dictionary.                                                                  |\n",
    "| ST_COLDESC     | Text, 300              | A description that corresponds to the state’s coding designation.           |\n",
    "| SEGLANEKEY     | Long                   | A key for the lane segment in which the collision occurred.                  |\n",
    "| CROSSWALKKEY   | Long                   | A key for the crosswalk at which the collision occurred.                     |\n",
    "| HITPARKEDCAR   | Text, 1                | Whether or not the collision involved hitting a parked car. (Y/N)            |\n"
   ]
  },
  {
   "cell_type": "code",
   "execution_count": null,
   "metadata": {},
   "outputs": [],
   "source": [
    "# Get the source data\n",
    "!wget -O data_collisions.csv https://s3.us.cloud-object-storage.appdomain.cloud/cf-courses-data/CognitiveClass/DP0701EN/version-2/Data-Collisions.csv"
   ]
  },
  {
   "cell_type": "code",
   "execution_count": 2,
   "metadata": {},
   "outputs": [
    {
     "name": "stderr",
     "output_type": "stream",
     "text": [
      "C:\\Users\\ohsang\\Anaconda3\\lib\\site-packages\\IPython\\core\\interactiveshell.py:3063: DtypeWarning: Columns (33) have mixed types.Specify dtype option on import or set low_memory=False.\n",
      "  interactivity=interactivity, compiler=compiler, result=result)\n"
     ]
    },
    {
     "data": {
      "text/html": [
       "<div>\n",
       "<style scoped>\n",
       "    .dataframe tbody tr th:only-of-type {\n",
       "        vertical-align: middle;\n",
       "    }\n",
       "\n",
       "    .dataframe tbody tr th {\n",
       "        vertical-align: top;\n",
       "    }\n",
       "\n",
       "    .dataframe thead th {\n",
       "        text-align: right;\n",
       "    }\n",
       "</style>\n",
       "<table border=\"1\" class=\"dataframe\">\n",
       "  <thead>\n",
       "    <tr style=\"text-align: right;\">\n",
       "      <th></th>\n",
       "      <th>SEVERITYCODE</th>\n",
       "      <th>X</th>\n",
       "      <th>Y</th>\n",
       "      <th>OBJECTID</th>\n",
       "      <th>INCKEY</th>\n",
       "      <th>COLDETKEY</th>\n",
       "      <th>REPORTNO</th>\n",
       "      <th>STATUS</th>\n",
       "      <th>ADDRTYPE</th>\n",
       "      <th>INTKEY</th>\n",
       "      <th>...</th>\n",
       "      <th>ROADCOND</th>\n",
       "      <th>LIGHTCOND</th>\n",
       "      <th>PEDROWNOTGRNT</th>\n",
       "      <th>SDOTCOLNUM</th>\n",
       "      <th>SPEEDING</th>\n",
       "      <th>ST_COLCODE</th>\n",
       "      <th>ST_COLDESC</th>\n",
       "      <th>SEGLANEKEY</th>\n",
       "      <th>CROSSWALKKEY</th>\n",
       "      <th>HITPARKEDCAR</th>\n",
       "    </tr>\n",
       "  </thead>\n",
       "  <tbody>\n",
       "    <tr>\n",
       "      <th>0</th>\n",
       "      <td>2</td>\n",
       "      <td>-122.323148</td>\n",
       "      <td>47.703140</td>\n",
       "      <td>1</td>\n",
       "      <td>1307</td>\n",
       "      <td>1307</td>\n",
       "      <td>3502005</td>\n",
       "      <td>Matched</td>\n",
       "      <td>Intersection</td>\n",
       "      <td>37475.0</td>\n",
       "      <td>...</td>\n",
       "      <td>Wet</td>\n",
       "      <td>Daylight</td>\n",
       "      <td>NaN</td>\n",
       "      <td>NaN</td>\n",
       "      <td>NaN</td>\n",
       "      <td>10</td>\n",
       "      <td>Entering at angle</td>\n",
       "      <td>0</td>\n",
       "      <td>0</td>\n",
       "      <td>N</td>\n",
       "    </tr>\n",
       "    <tr>\n",
       "      <th>1</th>\n",
       "      <td>1</td>\n",
       "      <td>-122.347294</td>\n",
       "      <td>47.647172</td>\n",
       "      <td>2</td>\n",
       "      <td>52200</td>\n",
       "      <td>52200</td>\n",
       "      <td>2607959</td>\n",
       "      <td>Matched</td>\n",
       "      <td>Block</td>\n",
       "      <td>NaN</td>\n",
       "      <td>...</td>\n",
       "      <td>Wet</td>\n",
       "      <td>Dark - Street Lights On</td>\n",
       "      <td>NaN</td>\n",
       "      <td>6354039.0</td>\n",
       "      <td>NaN</td>\n",
       "      <td>11</td>\n",
       "      <td>From same direction - both going straight - bo...</td>\n",
       "      <td>0</td>\n",
       "      <td>0</td>\n",
       "      <td>N</td>\n",
       "    </tr>\n",
       "    <tr>\n",
       "      <th>2</th>\n",
       "      <td>1</td>\n",
       "      <td>-122.334540</td>\n",
       "      <td>47.607871</td>\n",
       "      <td>3</td>\n",
       "      <td>26700</td>\n",
       "      <td>26700</td>\n",
       "      <td>1482393</td>\n",
       "      <td>Matched</td>\n",
       "      <td>Block</td>\n",
       "      <td>NaN</td>\n",
       "      <td>...</td>\n",
       "      <td>Dry</td>\n",
       "      <td>Daylight</td>\n",
       "      <td>NaN</td>\n",
       "      <td>4323031.0</td>\n",
       "      <td>NaN</td>\n",
       "      <td>32</td>\n",
       "      <td>One parked--one moving</td>\n",
       "      <td>0</td>\n",
       "      <td>0</td>\n",
       "      <td>N</td>\n",
       "    </tr>\n",
       "    <tr>\n",
       "      <th>3</th>\n",
       "      <td>1</td>\n",
       "      <td>-122.334803</td>\n",
       "      <td>47.604803</td>\n",
       "      <td>4</td>\n",
       "      <td>1144</td>\n",
       "      <td>1144</td>\n",
       "      <td>3503937</td>\n",
       "      <td>Matched</td>\n",
       "      <td>Block</td>\n",
       "      <td>NaN</td>\n",
       "      <td>...</td>\n",
       "      <td>Dry</td>\n",
       "      <td>Daylight</td>\n",
       "      <td>NaN</td>\n",
       "      <td>NaN</td>\n",
       "      <td>NaN</td>\n",
       "      <td>23</td>\n",
       "      <td>From same direction - all others</td>\n",
       "      <td>0</td>\n",
       "      <td>0</td>\n",
       "      <td>N</td>\n",
       "    </tr>\n",
       "    <tr>\n",
       "      <th>4</th>\n",
       "      <td>2</td>\n",
       "      <td>-122.306426</td>\n",
       "      <td>47.545739</td>\n",
       "      <td>5</td>\n",
       "      <td>17700</td>\n",
       "      <td>17700</td>\n",
       "      <td>1807429</td>\n",
       "      <td>Matched</td>\n",
       "      <td>Intersection</td>\n",
       "      <td>34387.0</td>\n",
       "      <td>...</td>\n",
       "      <td>Wet</td>\n",
       "      <td>Daylight</td>\n",
       "      <td>NaN</td>\n",
       "      <td>4028032.0</td>\n",
       "      <td>NaN</td>\n",
       "      <td>10</td>\n",
       "      <td>Entering at angle</td>\n",
       "      <td>0</td>\n",
       "      <td>0</td>\n",
       "      <td>N</td>\n",
       "    </tr>\n",
       "  </tbody>\n",
       "</table>\n",
       "<p>5 rows × 38 columns</p>\n",
       "</div>"
      ],
      "text/plain": [
       "   SEVERITYCODE           X          Y  OBJECTID  INCKEY  COLDETKEY REPORTNO  \\\n",
       "0             2 -122.323148  47.703140         1    1307       1307  3502005   \n",
       "1             1 -122.347294  47.647172         2   52200      52200  2607959   \n",
       "2             1 -122.334540  47.607871         3   26700      26700  1482393   \n",
       "3             1 -122.334803  47.604803         4    1144       1144  3503937   \n",
       "4             2 -122.306426  47.545739         5   17700      17700  1807429   \n",
       "\n",
       "    STATUS      ADDRTYPE   INTKEY  ... ROADCOND                LIGHTCOND  \\\n",
       "0  Matched  Intersection  37475.0  ...      Wet                 Daylight   \n",
       "1  Matched         Block      NaN  ...      Wet  Dark - Street Lights On   \n",
       "2  Matched         Block      NaN  ...      Dry                 Daylight   \n",
       "3  Matched         Block      NaN  ...      Dry                 Daylight   \n",
       "4  Matched  Intersection  34387.0  ...      Wet                 Daylight   \n",
       "\n",
       "  PEDROWNOTGRNT  SDOTCOLNUM SPEEDING ST_COLCODE  \\\n",
       "0           NaN         NaN      NaN         10   \n",
       "1           NaN   6354039.0      NaN         11   \n",
       "2           NaN   4323031.0      NaN         32   \n",
       "3           NaN         NaN      NaN         23   \n",
       "4           NaN   4028032.0      NaN         10   \n",
       "\n",
       "                                          ST_COLDESC  SEGLANEKEY  \\\n",
       "0                                  Entering at angle           0   \n",
       "1  From same direction - both going straight - bo...           0   \n",
       "2                             One parked--one moving           0   \n",
       "3                   From same direction - all others           0   \n",
       "4                                  Entering at angle           0   \n",
       "\n",
       "   CROSSWALKKEY  HITPARKEDCAR  \n",
       "0             0             N  \n",
       "1             0             N  \n",
       "2             0             N  \n",
       "3             0             N  \n",
       "4             0             N  \n",
       "\n",
       "[5 rows x 38 columns]"
      ]
     },
     "execution_count": 2,
     "metadata": {},
     "output_type": "execute_result"
    }
   ],
   "source": [
    "df = pd.read_csv('data_collisions.csv')\n",
    "df.head()"
   ]
  },
  {
   "cell_type": "code",
   "execution_count": 3,
   "metadata": {},
   "outputs": [
    {
     "data": {
      "text/plain": [
       "SEVERITYCODE           0\n",
       "X                   5334\n",
       "Y                   5334\n",
       "OBJECTID               0\n",
       "INCKEY                 0\n",
       "COLDETKEY              0\n",
       "REPORTNO               0\n",
       "STATUS                 0\n",
       "ADDRTYPE            1926\n",
       "INTKEY            129603\n",
       "LOCATION            2677\n",
       "EXCEPTRSNCODE     109862\n",
       "EXCEPTRSNDESC     189035\n",
       "SEVERITYCODE.1         0\n",
       "SEVERITYDESC           0\n",
       "COLLISIONTYPE       4904\n",
       "PERSONCOUNT            0\n",
       "PEDCOUNT               0\n",
       "PEDCYLCOUNT            0\n",
       "VEHCOUNT               0\n",
       "INCDATE                0\n",
       "INCDTTM                0\n",
       "JUNCTIONTYPE        6329\n",
       "SDOT_COLCODE           0\n",
       "SDOT_COLDESC           0\n",
       "INATTENTIONIND    164868\n",
       "UNDERINFL           4884\n",
       "WEATHER             5081\n",
       "ROADCOND            5012\n",
       "LIGHTCOND           5170\n",
       "PEDROWNOTGRNT     190006\n",
       "SDOTCOLNUM         79737\n",
       "SPEEDING          185340\n",
       "ST_COLCODE            18\n",
       "ST_COLDESC          4904\n",
       "SEGLANEKEY             0\n",
       "CROSSWALKKEY           0\n",
       "HITPARKEDCAR           0\n",
       "dtype: int64"
      ]
     },
     "execution_count": 3,
     "metadata": {},
     "output_type": "execute_result"
    }
   ],
   "source": [
    "df['INCDATE'] = pd.to_datetime(df['INCDATE'])\n",
    "#df.info() \n",
    "# Calculating the number of null values\n",
    "df.isnull().sum()\n",
    "# G : COLLISIONTYPE, PERSONCOUNT, PEDCOUNT, PEDCYLCOUNT, VEHCOUNT,  / UNDERINFL, WEATHER, ROADCOND, LIGHTCOND"
   ]
  },
  {
   "cell_type": "code",
   "execution_count": 4,
   "metadata": {},
   "outputs": [
    {
     "data": {
      "text/plain": [
       "LIGHTCOND                 SEVERITYDESC                  \n",
       "Dark - No Street Lights   Property Damage Only Collision    0.782694\n",
       "                          Injury Collision                  0.217306\n",
       "Dark - Street Lights Off  Property Damage Only Collision    0.736447\n",
       "                          Injury Collision                  0.263553\n",
       "Dark - Street Lights On   Property Damage Only Collision    0.701589\n",
       "                          Injury Collision                  0.298411\n",
       "Dark - Unknown Lighting   Property Damage Only Collision    0.636364\n",
       "                          Injury Collision                  0.363636\n",
       "Dawn                      Property Damage Only Collision    0.670663\n",
       "                          Injury Collision                  0.329337\n",
       "Daylight                  Property Damage Only Collision    0.668116\n",
       "                          Injury Collision                  0.331884\n",
       "Dusk                      Property Damage Only Collision    0.670620\n",
       "                          Injury Collision                  0.329380\n",
       "Other                     Property Damage Only Collision    0.778723\n",
       "                          Injury Collision                  0.221277\n",
       "Unknown                   Property Damage Only Collision    0.909081\n",
       "                          Injury Collision                  0.090919\n",
       "Name: SEVERITYDESC, dtype: float64"
      ]
     },
     "execution_count": 4,
     "metadata": {},
     "output_type": "execute_result"
    }
   ],
   "source": [
    "#df['WEATHER'].value_counts()\n",
    "#Replace NaN with 'Unknown'\n",
    "replace_value =  {'WEATHER': 'Unknown', 'ROADCOND': 'Unknown', 'LIGHTCOND': 'Unknown'}\n",
    "df.fillna(value=replace_value, inplace=True)\n",
    "\n",
    "df.groupby(['WEATHER'])['SEVERITYDESC'].value_counts(normalize=True)\n",
    "# Overall Severity code1 - 70%, 2 - 30% \n",
    "\n",
    "df['ROADCOND'].value_counts()\n",
    "df.groupby(['ROADCOND'])['SEVERITYDESC'].value_counts(normalize=True)\n",
    "# Overall Severity code 1 - 67%, 2 - 32%, ice /snow/standing water decrease Code 2 \n",
    "\n",
    "df['LIGHTCOND'].value_counts() # Unknown - 13473, Other - 235\n",
    "df.groupby(['LIGHTCOND'])['SEVERITYDESC'].value_counts(normalize=True)\n",
    "# Overall Severity code 1 - 70%, 2 - 30%, Dark-NO street Lights / Dark-Street light off"
   ]
  },
  {
   "cell_type": "code",
   "execution_count": 5,
   "metadata": {},
   "outputs": [],
   "source": [
    "# Check relationship between No Incidents in same location and Weahter, Road codition and Ligght condition\n",
    "df['LOCATION'].value_counts()\n",
    "df['LOCATION'].describe()  # mean of number of incidents occurened in same location = 3\n",
    "\n",
    "df_filltered = df\n",
    "\n",
    "# Filtered by value caounts of lcation to get location value multiple collision occured\n",
    "df_loc = pd.DataFrame(df_filltered['LOCATION'].value_counts(dropna=True, sort=True).rename_axis('LOCATION').reset_index(name='INC_HIGH_LOC'))\n",
    "df_loc.describe()\n",
    "df_loc = df_loc[df_loc.INC_HIGH_LOC > 20] # mean = 3, 75% - 8\n",
    "#df_loc.head()\n",
    "\n",
    "# Filter data set with multiple incident case in same location \n",
    "# Probability of Severity Code 2 cases increased : Blowing Sand/Dirt,Clear,Fog/Smog/Smoke,  \n",
    "df_filltered = df_filltered.assign(result=df_filltered['LOCATION'].isin(df_loc['LOCATION']).astype(int))    \n",
    "df_filltered = df_filltered[df_filltered.result != 0]"
   ]
  },
  {
   "cell_type": "code",
   "execution_count": 6,
   "metadata": {},
   "outputs": [
    {
     "data": {
      "text/plain": [
       "count    194673.000000\n",
       "mean          0.028391\n",
       "std           0.167413\n",
       "min           0.000000\n",
       "25%           0.000000\n",
       "50%           0.000000\n",
       "75%           0.000000\n",
       "max           2.000000\n",
       "Name: PEDCYLCOUNT, dtype: float64"
      ]
     },
     "execution_count": 6,
     "metadata": {},
     "output_type": "execute_result"
    }
   ],
   "source": [
    "# Target Set\n",
    "df_tSet = df[['SEVERITYCODE', 'SEVERITYDESC', 'PERSONCOUNT','PEDCOUNT', 'PEDCYLCOUNT', 'VEHCOUNT', 'WEATHER','ROADCOND', 'LIGHTCOND']]\n",
    "df_fSet = df_filltered[['SEVERITYCODE', 'SEVERITYDESC', 'PERSONCOUNT','PEDCOUNT', 'PEDCYLCOUNT', 'VEHCOUNT', 'WEATHER','ROADCOND', 'LIGHTCOND']]\n",
    "df_tSet.groupby(['WEATHER'])['SEVERITYDESC'].value_counts(normalize=True)\n",
    "df_tSet.groupby(['ROADCOND'])['SEVERITYDESC'].value_counts(normalize=True)\n",
    "df_tSet.groupby(['LIGHTCOND'])['SEVERITYDESC'].value_counts(normalize=True)\n",
    "\n",
    "#df_tSet.head()\n",
    "\n",
    "df_tSet.PERSONCOUNT.describe()\n",
    "df_tSet.VEHCOUNT.describe()\n",
    "df_tSet.PEDCOUNT.describe()\n",
    "df_tSet.PEDCYLCOUNT.describe()\n",
    "# PEDCOUNT, PDECYLCOUNT most of value = 0"
   ]
  },
  {
   "cell_type": "code",
   "execution_count": 7,
   "metadata": {},
   "outputs": [
    {
     "data": {
      "image/png": "[encoded data removed]",
      "text/plain": [
       "<Figure size 864x648 with 11 Axes>"
      ]
     },
     "metadata": {
      "needs_background": "light"
     },
     "output_type": "display_data"
    }
   ],
   "source": [
    "# notice: installing seaborn might takes a few minutes\n",
    "#!conda install -c anaconda seaborn -y\n",
    "\n",
    "import seaborn as sns\n",
    "#PERSONCOOUNT : min 0, max 81, 75% 3\n",
    "bins = np.linspace(0, 10, 10)\n",
    "g = sns.FacetGrid(df_tSet, col=\"WEATHER\", hue=\"SEVERITYCODE\", palette=\"Set1\", col_wrap=4)\n",
    "g.map(plt.hist, 'PERSONCOUNT', bins=bins, ec=\"k\")\n",
    "\n",
    "g.axes[-1].legend()\n",
    "plt.show()\n",
    "    # Overcast, Raining, Clear, Snowing, Fog/Smog/Smoke / Delete : Unknown, Other, Sleet/Hail/Freezing Rain...."
   ]
  },
  {
   "cell_type": "code",
   "execution_count": 8,
   "metadata": {},
   "outputs": [
    {
     "data": {
      "image/png": "[encoded data removed]",
      "text/plain": [
       "<Figure size 864x648 with 11 Axes>"
      ]
     },
     "metadata": {
      "needs_background": "light"
     },
     "output_type": "display_data"
    }
   ],
   "source": [
    "# VEHCOUNT : min 0, max 12, 75% 2\n",
    "bins = np.linspace(0, 10, 10)\n",
    "g = sns.FacetGrid(df_tSet, col=\"WEATHER\", hue=\"SEVERITYCODE\", palette=\"Set1\", col_wrap=4)\n",
    "g.map(plt.hist, 'VEHCOUNT', bins=bins, ec=\"k\")\n",
    "\n",
    "g.axes[-1].legend()\n",
    "plt.show()\n",
    "# Overcast , Raining, Clear, Snow / Delete : Unknown, Other"
   ]
  },
  {
   "cell_type": "code",
   "execution_count": 9,
   "metadata": {},
   "outputs": [
    {
     "data": {
      "image/png": "[encoded data removed]",
      "text/plain": [
       "<Figure size 864x648 with 9 Axes>"
      ]
     },
     "metadata": {
      "needs_background": "light"
     },
     "output_type": "display_data"
    }
   ],
   "source": [
    "bins = np.linspace(0, 10, 10)\n",
    "g = sns.FacetGrid(df_tSet, col=\"ROADCOND\", hue=\"SEVERITYCODE\", palette=\"Set1\", col_wrap=4)\n",
    "g.map(plt.hist, 'PERSONCOUNT', bins=bins, ec=\"k\")\n",
    "\n",
    "g.axes[-1].legend()\n",
    "plt.show()\n",
    "# Wet, Dry, Ice / Delete : Unknown"
   ]
  },
  {
   "cell_type": "code",
   "execution_count": 10,
   "metadata": {},
   "outputs": [
    {
     "data": {
      "image/png": "[encoded data removed]",
      "text/plain": [
       "<Figure size 864x648 with 9 Axes>"
      ]
     },
     "metadata": {
      "needs_background": "light"
     },
     "output_type": "display_data"
    }
   ],
   "source": [
    "bins = np.linspace(0, 10, 10)\n",
    "g = sns.FacetGrid(df_tSet, col=\"ROADCOND\", hue=\"SEVERITYCODE\", palette=\"Set1\", col_wrap=4)\n",
    "g.map(plt.hist, 'VEHCOUNT', bins=bins, ec=\"k\")\n",
    "\n",
    "g.axes[-1].legend()\n",
    "plt.show()\n",
    "# Wet, Dry / Unknown"
   ]
  },
  {
   "cell_type": "code",
   "execution_count": 11,
   "metadata": {},
   "outputs": [
    {
     "data": {
      "image/png": "[encoded data removed]",
      "text/plain": [
       "<Figure size 864x648 with 9 Axes>"
      ]
     },
     "metadata": {
      "needs_background": "light"
     },
     "output_type": "display_data"
    }
   ],
   "source": [
    "bins = np.linspace(0, 10, 10)\n",
    "g = sns.FacetGrid(df_tSet, col=\"LIGHTCOND\", hue=\"SEVERITYCODE\", palette=\"Set1\", col_wrap=4)\n",
    "g.map(plt.hist, 'PERSONCOUNT', bins=bins, ec=\"k\")\n",
    "\n",
    "g.axes[-1].legend()\n",
    "plt.show()\n",
    "\n",
    "# Daylgiht, Dark-Street Lignts On, Dusk, Dawn, Dark-Street Light Off / Delete : Unknown"
   ]
  },
  {
   "cell_type": "code",
   "execution_count": 12,
   "metadata": {},
   "outputs": [
    {
     "data": {
      "image/png": "[encoded data removed]",
      "text/plain": [
       "<Figure size 864x648 with 9 Axes>"
      ]
     },
     "metadata": {
      "needs_background": "light"
     },
     "output_type": "display_data"
    }
   ],
   "source": [
    "bins = np.linspace(0, 10, 10)\n",
    "g = sns.FacetGrid(df_tSet, col=\"LIGHTCOND\", hue=\"SEVERITYCODE\", palette=\"Set1\", col_wrap=4)\n",
    "g.map(plt.hist, 'VEHCOUNT', bins=bins, ec=\"k\")\n",
    "\n",
    "g.axes[-1].legend()\n",
    "plt.show()\n",
    "\n",
    "# Daylight, Dark-Street Lights On, Dusk, Dawn, Dark-Steet Lights Off / Unknown"
   ]
  },
  {
   "cell_type": "code",
   "execution_count": 13,
   "metadata": {},
   "outputs": [
    {
     "data": {
      "text/plain": [
       "LIGHTCOND                 SEVERITYDESC                  \n",
       "Dark - No Street Lights   Property Damage Only Collision    0.683582\n",
       "                          Injury Collision                  0.316418\n",
       "Dark - Street Lights Off  Property Damage Only Collision    0.628755\n",
       "                          Injury Collision                  0.371245\n",
       "Dark - Street Lights On   Property Damage Only Collision    0.652006\n",
       "                          Injury Collision                  0.347994\n",
       "Dark - Unknown Lighting   Property Damage Only Collision    1.000000\n",
       "Dawn                      Property Damage Only Collision    0.625776\n",
       "                          Injury Collision                  0.374224\n",
       "Daylight                  Property Damage Only Collision    0.641219\n",
       "                          Injury Collision                  0.358781\n",
       "Dusk                      Property Damage Only Collision    0.640097\n",
       "                          Injury Collision                  0.359903\n",
       "Other                     Property Damage Only Collision    0.692308\n",
       "                          Injury Collision                  0.307692\n",
       "Unknown                   Property Damage Only Collision    0.839335\n",
       "                          Injury Collision                  0.160665\n",
       "Name: SEVERITYDESC, dtype: float64"
      ]
     },
     "execution_count": 13,
     "metadata": {},
     "output_type": "execute_result"
    }
   ],
   "source": [
    "df_fSet = df_filltered[['SEVERITYCODE', 'SEVERITYDESC', 'PERSONCOUNT','PEDCOUNT', 'PEDCYLCOUNT', 'VEHCOUNT', 'WEATHER','ROADCOND', 'LIGHTCOND']]\n",
    "df_fSet.groupby(['WEATHER'])['SEVERITYDESC'].value_counts(normalize=True)\n",
    "df_fSet.groupby(['ROADCOND'])['SEVERITYDESC'].value_counts(normalize=True)\n",
    "df_fSet.groupby(['LIGHTCOND'])['SEVERITYDESC'].value_counts(normalize=True)\n"
   ]
  },
  {
   "cell_type": "code",
   "execution_count": 14,
   "metadata": {},
   "outputs": [
    {
     "data": {
      "image/png": "[encoded data removed]",
      "text/plain": [
       "<Figure size 864x648 with 11 Axes>"
      ]
     },
     "metadata": {
      "needs_background": "light"
     },
     "output_type": "display_data"
    }
   ],
   "source": [
    "bins = np.linspace(0, 10, 10)\n",
    "g = sns.FacetGrid(df_fSet, col=\"WEATHER\", hue=\"SEVERITYCODE\", palette=\"Set1\", col_wrap=4)\n",
    "g.map(plt.hist, 'PERSONCOUNT', bins=bins, ec=\"k\")\n",
    "\n",
    "g.axes[-1].legend()\n",
    "plt.show()\n",
    "# Overcast, Raining, Clear, Snowing, Fog/Smog/Smoke / Delete : Unknown, Other, Sleet/Hail/Freezing Rain...."
   ]
  },
  {
   "cell_type": "code",
   "execution_count": 15,
   "metadata": {},
   "outputs": [
    {
     "data": {
      "image/png": "[encoded data removed]",
      "text/plain": [
       "<Figure size 864x648 with 9 Axes>"
      ]
     },
     "metadata": {
      "needs_background": "light"
     },
     "output_type": "display_data"
    }
   ],
   "source": [
    "bins = np.linspace(0, 10, 10)\n",
    "g = sns.FacetGrid(df_fSet, col=\"ROADCOND\", hue=\"SEVERITYCODE\", palette=\"Set1\", col_wrap=4)\n",
    "g.map(plt.hist, 'PERSONCOUNT', bins=bins, ec=\"k\")\n",
    "\n",
    "g.axes[-1].legend()\n",
    "plt.show()\n",
    "# No notable difference from non filltered set"
   ]
  },
  {
   "cell_type": "code",
   "execution_count": 16,
   "metadata": {},
   "outputs": [
    {
     "data": {
      "image/png": "[encoded data removed]",
      "text/plain": [
       "<Figure size 864x648 with 9 Axes>"
      ]
     },
     "metadata": {
      "needs_background": "light"
     },
     "output_type": "display_data"
    }
   ],
   "source": [
    "bins = np.linspace(0, 10, 10)\n",
    "g = sns.FacetGrid(df_fSet, col=\"LIGHTCOND\", hue=\"SEVERITYCODE\", palette=\"Set1\", col_wrap=4)\n",
    "g.map(plt.hist, 'PERSONCOUNT', bins=bins, ec=\"k\")\n",
    "\n",
    "g.axes[-1].legend()\n",
    "plt.show()\n",
    "# No notable difference from non filltered set"
   ]
  },
  {
   "cell_type": "code",
   "execution_count": 17,
   "metadata": {},
   "outputs": [
    {
     "data": {
      "text/plain": [
       "Daylight                    116137\n",
       "Dark - Street Lights On      48507\n",
       "Unknown                      18643\n",
       "Dusk                          5902\n",
       "Dawn                          2502\n",
       "Dark - No Street Lights       1537\n",
       "Dark - Street Lights Off      1199\n",
       "Other                          235\n",
       "Dark - Unknown Lighting         11\n",
       "Name: LIGHTCOND, dtype: int64"
      ]
     },
     "execution_count": 17,
     "metadata": {},
     "output_type": "execute_result"
    }
   ],
   "source": [
    "df_tSet['WEATHER'].value_counts()\n",
    "df_tSet['ROADCOND'].value_counts()\n",
    "df_tSet['LIGHTCOND'].value_counts()"
   ]
  },
  {
   "cell_type": "code",
   "execution_count": 18,
   "metadata": {},
   "outputs": [
    {
     "data": {
      "text/html": [
       "<div>\n",
       "<style scoped>\n",
       "    .dataframe tbody tr th:only-of-type {\n",
       "        vertical-align: middle;\n",
       "    }\n",
       "\n",
       "    .dataframe tbody tr th {\n",
       "        vertical-align: top;\n",
       "    }\n",
       "\n",
       "    .dataframe thead th {\n",
       "        text-align: right;\n",
       "    }\n",
       "</style>\n",
       "<table border=\"1\" class=\"dataframe\">\n",
       "  <thead>\n",
       "    <tr style=\"text-align: right;\">\n",
       "      <th></th>\n",
       "      <th>Clear</th>\n",
       "      <th>Fog/Smog/Smoke</th>\n",
       "      <th>Overcast</th>\n",
       "      <th>Raining</th>\n",
       "      <th>Snowing</th>\n",
       "      <th>Dry</th>\n",
       "      <th>Ice</th>\n",
       "      <th>Snow/Slush</th>\n",
       "      <th>Wet</th>\n",
       "      <th>Dark - No Street Lights</th>\n",
       "      <th>Dark - Street Lights Off</th>\n",
       "      <th>Dark - Street Lights On</th>\n",
       "      <th>Dawn</th>\n",
       "      <th>Daylight</th>\n",
       "      <th>Dusk</th>\n",
       "    </tr>\n",
       "  </thead>\n",
       "  <tbody>\n",
       "    <tr>\n",
       "      <th>0</th>\n",
       "      <td>0</td>\n",
       "      <td>0</td>\n",
       "      <td>1</td>\n",
       "      <td>0</td>\n",
       "      <td>0</td>\n",
       "      <td>0</td>\n",
       "      <td>0</td>\n",
       "      <td>0</td>\n",
       "      <td>1</td>\n",
       "      <td>0</td>\n",
       "      <td>0</td>\n",
       "      <td>0</td>\n",
       "      <td>0</td>\n",
       "      <td>1</td>\n",
       "      <td>0</td>\n",
       "    </tr>\n",
       "    <tr>\n",
       "      <th>1</th>\n",
       "      <td>0</td>\n",
       "      <td>0</td>\n",
       "      <td>0</td>\n",
       "      <td>1</td>\n",
       "      <td>0</td>\n",
       "      <td>0</td>\n",
       "      <td>0</td>\n",
       "      <td>0</td>\n",
       "      <td>1</td>\n",
       "      <td>0</td>\n",
       "      <td>0</td>\n",
       "      <td>1</td>\n",
       "      <td>0</td>\n",
       "      <td>0</td>\n",
       "      <td>0</td>\n",
       "    </tr>\n",
       "    <tr>\n",
       "      <th>2</th>\n",
       "      <td>0</td>\n",
       "      <td>0</td>\n",
       "      <td>1</td>\n",
       "      <td>0</td>\n",
       "      <td>0</td>\n",
       "      <td>1</td>\n",
       "      <td>0</td>\n",
       "      <td>0</td>\n",
       "      <td>0</td>\n",
       "      <td>0</td>\n",
       "      <td>0</td>\n",
       "      <td>0</td>\n",
       "      <td>0</td>\n",
       "      <td>1</td>\n",
       "      <td>0</td>\n",
       "    </tr>\n",
       "    <tr>\n",
       "      <th>3</th>\n",
       "      <td>1</td>\n",
       "      <td>0</td>\n",
       "      <td>0</td>\n",
       "      <td>0</td>\n",
       "      <td>0</td>\n",
       "      <td>1</td>\n",
       "      <td>0</td>\n",
       "      <td>0</td>\n",
       "      <td>0</td>\n",
       "      <td>0</td>\n",
       "      <td>0</td>\n",
       "      <td>0</td>\n",
       "      <td>0</td>\n",
       "      <td>1</td>\n",
       "      <td>0</td>\n",
       "    </tr>\n",
       "    <tr>\n",
       "      <th>4</th>\n",
       "      <td>0</td>\n",
       "      <td>0</td>\n",
       "      <td>0</td>\n",
       "      <td>1</td>\n",
       "      <td>0</td>\n",
       "      <td>0</td>\n",
       "      <td>0</td>\n",
       "      <td>0</td>\n",
       "      <td>1</td>\n",
       "      <td>0</td>\n",
       "      <td>0</td>\n",
       "      <td>0</td>\n",
       "      <td>0</td>\n",
       "      <td>1</td>\n",
       "      <td>0</td>\n",
       "    </tr>\n",
       "  </tbody>\n",
       "</table>\n",
       "</div>"
      ],
      "text/plain": [
       "   Clear  Fog/Smog/Smoke  Overcast  Raining  Snowing  Dry  Ice  Snow/Slush  \\\n",
       "0      0               0         1        0        0    0    0           0   \n",
       "1      0               0         0        1        0    0    0           0   \n",
       "2      0               0         1        0        0    1    0           0   \n",
       "3      1               0         0        0        0    1    0           0   \n",
       "4      0               0         0        1        0    0    0           0   \n",
       "\n",
       "   Wet  Dark - No Street Lights  Dark - Street Lights Off  \\\n",
       "0    1                        0                         0   \n",
       "1    1                        0                         0   \n",
       "2    0                        0                         0   \n",
       "3    0                        0                         0   \n",
       "4    1                        0                         0   \n",
       "\n",
       "   Dark - Street Lights On  Dawn  Daylight  Dusk  \n",
       "0                        0     0         1     0  \n",
       "1                        1     0         0     0  \n",
       "2                        0     0         1     0  \n",
       "3                        0     0         1     0  \n",
       "4                        0     0         1     0  "
      ]
     },
     "execution_count": 18,
     "metadata": {},
     "output_type": "execute_result"
    }
   ],
   "source": [
    "#convert categorical varables to binary variables and append them to the feature Data Frame\n",
    "# WEATHER : Overcast, Raining, Clear, Snowing, Fog/Smog/Smoke  (Delete : Unknown, Other, Sleet/Hail/Freezing Rain....)\n",
    "# ROADCOND : Wet, Dry, Ice, Snow/Slush (Delete : Unknown )\n",
    "# LIGHTCOND : Daylight, Dark-Street Lights On, Dusk, Dawn, Dark-Steet Lights Off, Dark - No Street Lights (Delete : Unknown ...)\n",
    "Feature = df[['PERSONCOUNT','PEDCOUNT', 'PEDCYLCOUNT', 'VEHCOUNT']]\n",
    "Feature = pd.concat([Feature,pd.get_dummies(df_tSet['WEATHER'])], axis=1)\n",
    "Feature.drop(['Unknown','Other', 'Sleet/Hail/Freezing Rain', 'Blowing Sand/Dirt', 'Severe Crosswind', 'Partly Cloudy'], axis = 1,inplace=True)\n",
    "\n",
    "Feature = pd.concat([Feature,pd.get_dummies(df_tSet['ROADCOND'])], axis=1)\n",
    "Feature.drop(['Unknown','Other', 'Standing Water', 'Sand/Mud/Dirt', 'Oil'], axis = 1,inplace=True)\n",
    "\n",
    "Feature = pd.concat([Feature,pd.get_dummies(df_tSet['LIGHTCOND'])], axis=1)\n",
    "Feature.drop(['Unknown','Other', 'Dark - Unknown Lighting'], axis = 1,inplace=True)\n",
    "\n",
    "# drop count column \n",
    "Feature.drop(['PERSONCOUNT','PEDCOUNT', 'PEDCYLCOUNT', 'VEHCOUNT'], axis = 1,inplace=True)\n",
    "\n",
    "Feature.head()"
   ]
  },
  {
   "cell_type": "code",
   "execution_count": 19,
   "metadata": {},
   "outputs": [
    {
     "data": {
      "text/html": [
       "<div>\n",
       "<style scoped>\n",
       "    .dataframe tbody tr th:only-of-type {\n",
       "        vertical-align: middle;\n",
       "    }\n",
       "\n",
       "    .dataframe tbody tr th {\n",
       "        vertical-align: top;\n",
       "    }\n",
       "\n",
       "    .dataframe thead th {\n",
       "        text-align: right;\n",
       "    }\n",
       "</style>\n",
       "<table border=\"1\" class=\"dataframe\">\n",
       "  <thead>\n",
       "    <tr style=\"text-align: right;\">\n",
       "      <th></th>\n",
       "      <th>Clear</th>\n",
       "      <th>Fog/Smog/Smoke</th>\n",
       "      <th>Overcast</th>\n",
       "      <th>Raining</th>\n",
       "      <th>Snowing</th>\n",
       "      <th>Dry</th>\n",
       "      <th>Ice</th>\n",
       "      <th>Snow/Slush</th>\n",
       "      <th>Wet</th>\n",
       "      <th>Dark - No Street Lights</th>\n",
       "      <th>Dark - Street Lights Off</th>\n",
       "      <th>Dark - Street Lights On</th>\n",
       "      <th>Dawn</th>\n",
       "      <th>Daylight</th>\n",
       "      <th>Dusk</th>\n",
       "    </tr>\n",
       "  </thead>\n",
       "  <tbody>\n",
       "    <tr>\n",
       "      <th>0</th>\n",
       "      <td>0</td>\n",
       "      <td>0</td>\n",
       "      <td>1</td>\n",
       "      <td>0</td>\n",
       "      <td>0</td>\n",
       "      <td>0</td>\n",
       "      <td>0</td>\n",
       "      <td>0</td>\n",
       "      <td>1</td>\n",
       "      <td>0</td>\n",
       "      <td>0</td>\n",
       "      <td>0</td>\n",
       "      <td>0</td>\n",
       "      <td>1</td>\n",
       "      <td>0</td>\n",
       "    </tr>\n",
       "    <tr>\n",
       "      <th>1</th>\n",
       "      <td>0</td>\n",
       "      <td>0</td>\n",
       "      <td>0</td>\n",
       "      <td>1</td>\n",
       "      <td>0</td>\n",
       "      <td>0</td>\n",
       "      <td>0</td>\n",
       "      <td>0</td>\n",
       "      <td>1</td>\n",
       "      <td>0</td>\n",
       "      <td>0</td>\n",
       "      <td>1</td>\n",
       "      <td>0</td>\n",
       "      <td>0</td>\n",
       "      <td>0</td>\n",
       "    </tr>\n",
       "    <tr>\n",
       "      <th>2</th>\n",
       "      <td>0</td>\n",
       "      <td>0</td>\n",
       "      <td>1</td>\n",
       "      <td>0</td>\n",
       "      <td>0</td>\n",
       "      <td>1</td>\n",
       "      <td>0</td>\n",
       "      <td>0</td>\n",
       "      <td>0</td>\n",
       "      <td>0</td>\n",
       "      <td>0</td>\n",
       "      <td>0</td>\n",
       "      <td>0</td>\n",
       "      <td>1</td>\n",
       "      <td>0</td>\n",
       "    </tr>\n",
       "    <tr>\n",
       "      <th>3</th>\n",
       "      <td>1</td>\n",
       "      <td>0</td>\n",
       "      <td>0</td>\n",
       "      <td>0</td>\n",
       "      <td>0</td>\n",
       "      <td>1</td>\n",
       "      <td>0</td>\n",
       "      <td>0</td>\n",
       "      <td>0</td>\n",
       "      <td>0</td>\n",
       "      <td>0</td>\n",
       "      <td>0</td>\n",
       "      <td>0</td>\n",
       "      <td>1</td>\n",
       "      <td>0</td>\n",
       "    </tr>\n",
       "    <tr>\n",
       "      <th>4</th>\n",
       "      <td>0</td>\n",
       "      <td>0</td>\n",
       "      <td>0</td>\n",
       "      <td>1</td>\n",
       "      <td>0</td>\n",
       "      <td>0</td>\n",
       "      <td>0</td>\n",
       "      <td>0</td>\n",
       "      <td>1</td>\n",
       "      <td>0</td>\n",
       "      <td>0</td>\n",
       "      <td>0</td>\n",
       "      <td>0</td>\n",
       "      <td>1</td>\n",
       "      <td>0</td>\n",
       "    </tr>\n",
       "  </tbody>\n",
       "</table>\n",
       "</div>"
      ],
      "text/plain": [
       "   Clear  Fog/Smog/Smoke  Overcast  Raining  Snowing  Dry  Ice  Snow/Slush  \\\n",
       "0      0               0         1        0        0    0    0           0   \n",
       "1      0               0         0        1        0    0    0           0   \n",
       "2      0               0         1        0        0    1    0           0   \n",
       "3      1               0         0        0        0    1    0           0   \n",
       "4      0               0         0        1        0    0    0           0   \n",
       "\n",
       "   Wet  Dark - No Street Lights  Dark - Street Lights Off  \\\n",
       "0    1                        0                         0   \n",
       "1    1                        0                         0   \n",
       "2    0                        0                         0   \n",
       "3    0                        0                         0   \n",
       "4    1                        0                         0   \n",
       "\n",
       "   Dark - Street Lights On  Dawn  Daylight  Dusk  \n",
       "0                        0     0         1     0  \n",
       "1                        1     0         0     0  \n",
       "2                        0     0         1     0  \n",
       "3                        0     0         1     0  \n",
       "4                        0     0         1     0  "
      ]
     },
     "execution_count": 19,
     "metadata": {},
     "output_type": "execute_result"
    }
   ],
   "source": [
    "X = Feature\n",
    "X[0:5]"
   ]
  },
  {
   "cell_type": "code",
   "execution_count": 20,
   "metadata": {},
   "outputs": [
    {
     "data": {
      "text/plain": [
       "array(['Injury Collision', 'Property Damage Only Collision',\n",
       "       'Property Damage Only Collision', 'Property Damage Only Collision',\n",
       "       'Injury Collision'], dtype=object)"
      ]
     },
     "execution_count": 20,
     "metadata": {},
     "output_type": "execute_result"
    }
   ],
   "source": [
    "y = df_tSet['SEVERITYDESC'].values\n",
    "y[0:5]"
   ]
  },
  {
   "cell_type": "code",
   "execution_count": 21,
   "metadata": {},
   "outputs": [
    {
     "data": {
      "text/plain": [
       "array([[-1.15340914, -0.05414257,  2.45445634, -0.45298634, -0.06841713,\n",
       "        -1.33213439, -0.07905204, -0.07200071,  1.76085874, -0.08920831,\n",
       "        -0.07872239, -0.576075  , -0.1141037 ,  0.82233559, -0.17682024],\n",
       "       [-1.15340914, -0.05414257, -0.4074222 ,  2.2075721 , -0.06841713,\n",
       "        -1.33213439, -0.07905204, -0.07200071,  1.76085874, -0.08920831,\n",
       "        -0.07872239,  1.73588509, -0.1141037 , -1.21604855, -0.17682024],\n",
       "       [-1.15340914, -0.05414257,  2.45445634, -0.45298634, -0.06841713,\n",
       "         0.75067501, -0.07905204, -0.07200071, -0.56790473, -0.08920831,\n",
       "        -0.07872239, -0.576075  , -0.1141037 ,  0.82233559, -0.17682024],\n",
       "       [ 0.86699503, -0.05414257, -0.4074222 , -0.45298634, -0.06841713,\n",
       "         0.75067501, -0.07905204, -0.07200071, -0.56790473, -0.08920831,\n",
       "        -0.07872239, -0.576075  , -0.1141037 ,  0.82233559, -0.17682024],\n",
       "       [-1.15340914, -0.05414257, -0.4074222 ,  2.2075721 , -0.06841713,\n",
       "        -1.33213439, -0.07905204, -0.07200071,  1.76085874, -0.08920831,\n",
       "        -0.07872239, -0.576075  , -0.1141037 ,  0.82233559, -0.17682024]])"
      ]
     },
     "execution_count": 21,
     "metadata": {},
     "output_type": "execute_result"
    }
   ],
   "source": [
    "# Normalize Data\n",
    "# Data Standardization give data zero mean and unit variance (technically should be done after train test split )\n",
    "X= preprocessing.StandardScaler().fit(X).transform(X)\n",
    "X[0:5]\n"
   ]
  },
  {
   "cell_type": "code",
   "execution_count": 22,
   "metadata": {},
   "outputs": [
    {
     "name": "stdout",
     "output_type": "stream",
     "text": [
      "Train set: (136271, 15) (136271,)\n",
      "Test set: (58402, 15) (58402,)\n"
     ]
    }
   ],
   "source": [
    "# Set evaluation report\n",
    "d = {\"Algorithm\":['KNN','Decision Tree','SVM', 'LogisticRegression']} \n",
    "df_report = pd.DataFrame(data=d )\n",
    "df_report['Jaccard'] = [0.0, 0.0, 0.0, 0.0]\n",
    "df_report['F1-score'] = [0.0, 0.0, 0.0, 0.0]\n",
    "df_report['LogLoss'] = ['NA', 'NA', 'NA', 0.0]\n",
    "df_report = df_report.set_index('Algorithm')\n",
    "\n",
    "# Train Test Split\n",
    "from sklearn.model_selection import train_test_split\n",
    "X_train, X_test, y_train, y_test = train_test_split( X, y, test_size=0.3, random_state=4)\n",
    "print ('Train set:', X_train.shape,  y_train.shape)\n",
    "print ('Test set:', X_test.shape,  y_test.shape)\n"
   ]
  },
  {
   "cell_type": "code",
   "execution_count": 23,
   "metadata": {},
   "outputs": [
    {
     "data": {
      "text/plain": [
       "array([0.66679223, 0.60664018, 0.66763125, 0.64133078, 0.69812678,\n",
       "       0.54717304, 0.57352488, 0.52998185, 0.57359337])"
      ]
     },
     "execution_count": 23,
     "metadata": {},
     "output_type": "execute_result"
    }
   ],
   "source": [
    "# Import library\n",
    "from sklearn.neighbors import KNeighborsClassifier\n",
    "from sklearn import metrics\n",
    "\n",
    "# 8~9 min per iteration, abt 1 hour 18:47\n",
    "\n",
    "# finding best K\n",
    "Ks = 10 \n",
    "mean_acc = np.zeros((Ks-1))\n",
    "std_acc = np.zeros((Ks-1))\n",
    "#ConfustionMx = [];\n",
    "for n in range(1,Ks):\n",
    "    \n",
    "    #Train Model and Predict, evaluation using accuarcy classificaiton score equal to jaccard_similary_socre  \n",
    "    neigh = KNeighborsClassifier(n_neighbors = n).fit(X_train,y_train)\n",
    "    yhat=neigh.predict(X_test)\n",
    "    mean_acc[n-1] = metrics.accuracy_score(y_test, yhat)\n",
    "\n",
    "    \n",
    "    std_acc[n-1]=np.std(yhat==y_test)/np.sqrt(yhat.shape[0])\n",
    "\n",
    "mean_acc"
   ]
  },
  {
   "cell_type": "code",
   "execution_count": 24,
   "metadata": {},
   "outputs": [
    {
     "data": {
      "image/png": "[encoded data removed]",
      "text/plain": [
       "<Figure size 432x288 with 1 Axes>"
      ]
     },
     "metadata": {
      "needs_background": "light"
     },
     "output_type": "display_data"
    },
    {
     "name": "stdout",
     "output_type": "stream",
     "text": [
      "The best accuracy was with 0.6981267764802576 with k= 5\n"
     ]
    },
    {
     "name": "stderr",
     "output_type": "stream",
     "text": [
      "C:\\Users\\ohsang\\Anaconda3\\lib\\site-packages\\sklearn\\metrics\\_classification.py:664: FutureWarning: jaccard_similarity_score has been deprecated and replaced with jaccard_score. It will be removed in version 0.23. This implementation has surprising behavior for binary and multiclass classification tasks.\n",
      "  FutureWarning)\n"
     ]
    },
    {
     "data": {
      "text/html": [
       "<div>\n",
       "<style scoped>\n",
       "    .dataframe tbody tr th:only-of-type {\n",
       "        vertical-align: middle;\n",
       "    }\n",
       "\n",
       "    .dataframe tbody tr th {\n",
       "        vertical-align: top;\n",
       "    }\n",
       "\n",
       "    .dataframe thead th {\n",
       "        text-align: right;\n",
       "    }\n",
       "</style>\n",
       "<table border=\"1\" class=\"dataframe\">\n",
       "  <thead>\n",
       "    <tr style=\"text-align: right;\">\n",
       "      <th></th>\n",
       "      <th>Jaccard</th>\n",
       "      <th>F1-score</th>\n",
       "      <th>LogLoss</th>\n",
       "    </tr>\n",
       "    <tr>\n",
       "      <th>Algorithm</th>\n",
       "      <th></th>\n",
       "      <th></th>\n",
       "      <th></th>\n",
       "    </tr>\n",
       "  </thead>\n",
       "  <tbody>\n",
       "    <tr>\n",
       "      <th>KNN</th>\n",
       "      <td>0.698127</td>\n",
       "      <td>0.586849</td>\n",
       "      <td>NA</td>\n",
       "    </tr>\n",
       "    <tr>\n",
       "      <th>Decision Tree</th>\n",
       "      <td>0.000000</td>\n",
       "      <td>0.000000</td>\n",
       "      <td>NA</td>\n",
       "    </tr>\n",
       "    <tr>\n",
       "      <th>SVM</th>\n",
       "      <td>0.000000</td>\n",
       "      <td>0.000000</td>\n",
       "      <td>NA</td>\n",
       "    </tr>\n",
       "    <tr>\n",
       "      <th>LogisticRegression</th>\n",
       "      <td>0.000000</td>\n",
       "      <td>0.000000</td>\n",
       "      <td>0</td>\n",
       "    </tr>\n",
       "  </tbody>\n",
       "</table>\n",
       "</div>"
      ],
      "text/plain": [
       "                     Jaccard  F1-score LogLoss\n",
       "Algorithm                                     \n",
       "KNN                 0.698127  0.586849      NA\n",
       "Decision Tree       0.000000  0.000000      NA\n",
       "SVM                 0.000000  0.000000      NA\n",
       "LogisticRegression  0.000000  0.000000       0"
      ]
     },
     "execution_count": 24,
     "metadata": {},
     "output_type": "execute_result"
    }
   ],
   "source": [
    "# Visualize accuracy\n",
    "plt.plot(range(1,Ks),mean_acc,'g')\n",
    "plt.fill_between(range(1,Ks),mean_acc - 1 * std_acc,mean_acc + 1 * std_acc, alpha=0.10)\n",
    "plt.legend(('Accuracy ', '+/- 3xstd'))\n",
    "plt.ylabel('Accuracy ')\n",
    "plt.xlabel('Number of Nabors (K)')\n",
    "plt.tight_layout()\n",
    "plt.show()\n",
    "# Print the best k\n",
    "print( \"The best accuracy was with\", mean_acc.max(), \"with k=\", mean_acc.argmax()+1) \n",
    "\n",
    "from sklearn.metrics import f1_score\n",
    "from sklearn.metrics import jaccard_similarity_score\n",
    "\n",
    "# Evaluation\n",
    "# KNN, best K = 5\n",
    "neigh = KNeighborsClassifier(n_neighbors = mean_acc.argmax()+1).fit(X_train,y_train)\n",
    "yhat=neigh.predict(X_test)\n",
    "\n",
    "df_report.loc[['KNN'],['F1-score']] = f1_score(y_test, yhat, average='weighted') \n",
    "df_report.loc[['KNN'],['Jaccard']] = jaccard_similarity_score(y_test, yhat)\n",
    "df_report\n"
   ]
  },
  {
   "cell_type": "code",
   "execution_count": 25,
   "metadata": {},
   "outputs": [
    {
     "name": "stdout",
     "output_type": "stream",
     "text": [
      "The best accuracy was with 0.7034690592787918 with depth = 6\n"
     ]
    },
    {
     "name": "stderr",
     "output_type": "stream",
     "text": [
      "C:\\Users\\ohsang\\Anaconda3\\lib\\site-packages\\sklearn\\metrics\\_classification.py:664: FutureWarning: jaccard_similarity_score has been deprecated and replaced with jaccard_score. It will be removed in version 0.23. This implementation has surprising behavior for binary and multiclass classification tasks.\n",
      "  FutureWarning)\n"
     ]
    },
    {
     "data": {
      "text/html": [
       "<div>\n",
       "<style scoped>\n",
       "    .dataframe tbody tr th:only-of-type {\n",
       "        vertical-align: middle;\n",
       "    }\n",
       "\n",
       "    .dataframe tbody tr th {\n",
       "        vertical-align: top;\n",
       "    }\n",
       "\n",
       "    .dataframe thead th {\n",
       "        text-align: right;\n",
       "    }\n",
       "</style>\n",
       "<table border=\"1\" class=\"dataframe\">\n",
       "  <thead>\n",
       "    <tr style=\"text-align: right;\">\n",
       "      <th></th>\n",
       "      <th>Jaccard</th>\n",
       "      <th>F1-score</th>\n",
       "      <th>LogLoss</th>\n",
       "    </tr>\n",
       "    <tr>\n",
       "      <th>Algorithm</th>\n",
       "      <th></th>\n",
       "      <th></th>\n",
       "      <th></th>\n",
       "    </tr>\n",
       "  </thead>\n",
       "  <tbody>\n",
       "    <tr>\n",
       "      <th>KNN</th>\n",
       "      <td>0.698127</td>\n",
       "      <td>0.586849</td>\n",
       "      <td>NA</td>\n",
       "    </tr>\n",
       "    <tr>\n",
       "      <th>Decision Tree</th>\n",
       "      <td>0.703469</td>\n",
       "      <td>0.581031</td>\n",
       "      <td>NA</td>\n",
       "    </tr>\n",
       "    <tr>\n",
       "      <th>SVM</th>\n",
       "      <td>0.000000</td>\n",
       "      <td>0.000000</td>\n",
       "      <td>NA</td>\n",
       "    </tr>\n",
       "    <tr>\n",
       "      <th>LogisticRegression</th>\n",
       "      <td>0.000000</td>\n",
       "      <td>0.000000</td>\n",
       "      <td>0</td>\n",
       "    </tr>\n",
       "  </tbody>\n",
       "</table>\n",
       "</div>"
      ],
      "text/plain": [
       "                     Jaccard  F1-score LogLoss\n",
       "Algorithm                                     \n",
       "KNN                 0.698127  0.586849      NA\n",
       "Decision Tree       0.703469  0.581031      NA\n",
       "SVM                 0.000000  0.000000      NA\n",
       "LogisticRegression  0.000000  0.000000       0"
      ]
     },
     "execution_count": 25,
     "metadata": {},
     "output_type": "execute_result"
    }
   ],
   "source": [
    "# Classification : Decision Tree\n",
    "# Import library\n",
    "from sklearn.tree import DecisionTreeClassifier\n",
    "# Modeling with criterion entropy \n",
    "\n",
    "# finding best K\n",
    "Ks = 12\n",
    "mean_dt = np.zeros((Ks-1))\n",
    "std_dt = np.zeros((Ks-1))\n",
    "#ConfustionMx = [];\n",
    "for n in range(1,Ks):\n",
    "    \n",
    "    #Train Model and Predict, evaluation using accuarcy classificaiton score equal to jaccard_similary_socre  \n",
    "    svrTree = DecisionTreeClassifier(criterion=\"entropy\", max_depth = n)\n",
    "    #loanTree # it shows the default parameters\n",
    "    svrTree.fit(X_train,y_train)\n",
    "    yhat = svrTree.predict(X_test)\n",
    "\n",
    "    mean_dt[n-1] = metrics.accuracy_score(y_test, yhat)\n",
    "    \n",
    "    std_dt[n-1]=np.std(yhat==y_test)/np.sqrt(yhat.shape[0])\n",
    "\n",
    "mean_dt\n",
    "\n",
    "# Print the best k\n",
    "print( \"The best accuracy was with\", mean_dt.max(), \"with depth =\", mean_dt.argmax()+1) \n",
    "\n",
    "# Evaluation\n",
    "svrTree = DecisionTreeClassifier(criterion=\"entropy\", max_depth = mean_dt.argmax()+1)\n",
    "svrTree.fit(X_train,y_train)\n",
    "yhat = svrTree.predict(X_test)\n",
    "df_report.loc[['Decision Tree'],['F1-score']] = f1_score(y_test, yhat, average='weighted') \n",
    "df_report.loc[['Decision Tree'],['Jaccard']] = jaccard_similarity_score(y_test, yhat)\n",
    "df_report\n"
   ]
  },
  {
   "cell_type": "code",
   "execution_count": 26,
   "metadata": {},
   "outputs": [
    {
     "name": "stderr",
     "output_type": "stream",
     "text": [
      "C:\\Users\\ohsang\\Anaconda3\\lib\\site-packages\\sklearn\\externals\\six.py:31: FutureWarning: The module is deprecated in version 0.21 and will be removed in version 0.23 since we've dropped support for Python 2.7. Please rely on the official version of six (https://pypi.org/project/six/).\n",
      "  \"(https://pypi.org/project/six/).\", FutureWarning)\n"
     ]
    },
    {
     "ename": "ModuleNotFoundError",
     "evalue": "No module named 'pydotplus'",
     "output_type": "error",
     "traceback": [
      "\u001b[1;31m---------------------------------------------------------------------------\u001b[0m",
      "\u001b[1;31mModuleNotFoundError\u001b[0m                       Traceback (most recent call last)",
      "\u001b[1;32m<ipython-input-26-aeee334ec3c1>\u001b[0m in \u001b[0;36m<module>\u001b[1;34m\u001b[0m\n\u001b[0;32m      4\u001b[0m \u001b[1;33m\u001b[0m\u001b[0m\n\u001b[0;32m      5\u001b[0m \u001b[1;32mfrom\u001b[0m \u001b[0msklearn\u001b[0m\u001b[1;33m.\u001b[0m\u001b[0mexternals\u001b[0m\u001b[1;33m.\u001b[0m\u001b[0msix\u001b[0m \u001b[1;32mimport\u001b[0m \u001b[0mStringIO\u001b[0m\u001b[1;33m\u001b[0m\u001b[1;33m\u001b[0m\u001b[0m\n\u001b[1;32m----> 6\u001b[1;33m \u001b[1;32mimport\u001b[0m \u001b[0mpydotplus\u001b[0m\u001b[1;33m\u001b[0m\u001b[1;33m\u001b[0m\u001b[0m\n\u001b[0m\u001b[0;32m      7\u001b[0m \u001b[1;32mimport\u001b[0m \u001b[0mmatplotlib\u001b[0m\u001b[1;33m.\u001b[0m\u001b[0mimage\u001b[0m \u001b[1;32mas\u001b[0m \u001b[0mmpimg\u001b[0m\u001b[1;33m\u001b[0m\u001b[1;33m\u001b[0m\u001b[0m\n\u001b[0;32m      8\u001b[0m \u001b[1;32mfrom\u001b[0m \u001b[0msklearn\u001b[0m \u001b[1;32mimport\u001b[0m \u001b[0mtree\u001b[0m\u001b[1;33m\u001b[0m\u001b[1;33m\u001b[0m\u001b[0m\n",
      "\u001b[1;31mModuleNotFoundError\u001b[0m: No module named 'pydotplus'"
     ]
    }
   ],
   "source": [
    "# Notice: You might need to uncomment and install the pydotplus and graphviz libraries if you have not installed these before\n",
    "#!conda install -c conda-forge pydotplus -y\n",
    "#!conda install -c conda-forge python-graphviz -y\n",
    "\n",
    "from sklearn.externals.six import StringIO\n",
    "import pydotplus\n",
    "import matplotlib.image as mpimg\n",
    "from sklearn import tree\n",
    "%matplotlib inline \n",
    "\n",
    "my_data = pd.DataFrame(data=X)\n",
    "my_data[\"SEVERITYDESC\"] = df_tSet['SEVERITYDESC']\n",
    "featureNames = ['Clear','Fog/Smog/Smoke','Overcast','Raining','Snowing','Dry','Ice','Snow/Slush','Wet','Dark - No Street Lights','Dark - Street Lights Off','Dark - Street Lights On','Dawn','Daylight','Dusk']\n",
    "#featureNames\n",
    "dot_data = StringIO()\n",
    "filename = \"svrtree.png\"\n",
    "targetNames = my_data[\"SEVERITYDESC\"].unique().tolist()\n",
    "out=tree.export_graphviz(svrTree,feature_names=featureNames, out_file=dot_data, class_names= np.unique(y_train), filled=True,  special_characters=True,rotate=False)  \n",
    "graph = pydotplus.graph_from_dot_data(dot_data.getvalue())  \n",
    "graph.write_png(filename)\n",
    "img = mpimg.imread(filename)\n",
    "plt.figure(figsize=(100, 200))\n",
    "plt.imshow(img,interpolation='nearest')"
   ]
  },
  {
   "cell_type": "code",
   "execution_count": 1,
   "metadata": {},
   "outputs": [
    {
     "ename": "NameError",
     "evalue": "name 'np' is not defined",
     "output_type": "error",
     "traceback": [
      "\u001b[1;31m---------------------------------------------------------------------------\u001b[0m",
      "\u001b[1;31mNameError\u001b[0m                                 Traceback (most recent call last)",
      "\u001b[1;32m<ipython-input-1-032d2c5800c1>\u001b[0m in \u001b[0;36m<module>\u001b[1;34m\u001b[0m\n\u001b[0;32m      5\u001b[0m \u001b[1;33m\u001b[0m\u001b[0m\n\u001b[0;32m      6\u001b[0m \u001b[1;31m# finding best kernel function\u001b[0m\u001b[1;33m\u001b[0m\u001b[1;33m\u001b[0m\u001b[1;33m\u001b[0m\u001b[0m\n\u001b[1;32m----> 7\u001b[1;33m \u001b[0mmean_kf\u001b[0m \u001b[1;33m=\u001b[0m \u001b[0mnp\u001b[0m\u001b[1;33m.\u001b[0m\u001b[0mzeros\u001b[0m\u001b[1;33m(\u001b[0m\u001b[1;36m4\u001b[0m\u001b[1;33m)\u001b[0m\u001b[1;33m\u001b[0m\u001b[1;33m\u001b[0m\u001b[0m\n\u001b[0m\u001b[0;32m      8\u001b[0m \u001b[0mstd_kf\u001b[0m \u001b[1;33m=\u001b[0m \u001b[0mnp\u001b[0m\u001b[1;33m.\u001b[0m\u001b[0mzeros\u001b[0m\u001b[1;33m(\u001b[0m\u001b[1;36m4\u001b[0m\u001b[1;33m)\u001b[0m\u001b[1;33m\u001b[0m\u001b[1;33m\u001b[0m\u001b[0m\n\u001b[0;32m      9\u001b[0m \u001b[1;33m\u001b[0m\u001b[0m\n",
      "\u001b[1;31mNameError\u001b[0m: name 'np' is not defined"
     ]
    }
   ],
   "source": [
    "# Classification : Support Vector Machine\n",
    "#SVM modeling with  Radial basis function\n",
    "# 4:36 100min\n",
    "from sklearn import svm\n",
    "\n",
    "# finding best kernel function\n",
    "mean_kf = np.zeros(4)\n",
    "std_kf = np.zeros(4)\n",
    "\n",
    "for i, kernel in enumerate(['linear', 'poly', 'rbf', 'sigmoid']) :\n",
    "    clf = svm.SVC(kernel=kernel, gamma=2)\n",
    "    clf.fit(X_train, y_train)\n",
    "    yhat = clf.predict(X_test)\n",
    "    mean_kf[i] = metrics.accuracy_score(y_test, yhat)\n",
    "    std_kf[i]=np.std(yhat==y_test)/np.sqrt(yhat.shape[0])\n",
    "\n",
    "mean_kf\n"
   ]
  },
  {
   "cell_type": "code",
   "execution_count": 55,
   "metadata": {},
   "outputs": [
    {
     "data": {
      "text/html": [
       "<div>\n",
       "<style scoped>\n",
       "    .dataframe tbody tr th:only-of-type {\n",
       "        vertical-align: middle;\n",
       "    }\n",
       "\n",
       "    .dataframe tbody tr th {\n",
       "        vertical-align: top;\n",
       "    }\n",
       "\n",
       "    .dataframe thead th {\n",
       "        text-align: right;\n",
       "    }\n",
       "</style>\n",
       "<table border=\"1\" class=\"dataframe\">\n",
       "  <thead>\n",
       "    <tr style=\"text-align: right;\">\n",
       "      <th></th>\n",
       "      <th>Jaccard</th>\n",
       "      <th>F1-score</th>\n",
       "      <th>LogLoss</th>\n",
       "    </tr>\n",
       "    <tr>\n",
       "      <th>Algorithm</th>\n",
       "      <th></th>\n",
       "      <th></th>\n",
       "      <th></th>\n",
       "    </tr>\n",
       "  </thead>\n",
       "  <tbody>\n",
       "    <tr>\n",
       "      <th>KNN</th>\n",
       "      <td>0.698127</td>\n",
       "      <td>0.586849</td>\n",
       "      <td>NA</td>\n",
       "    </tr>\n",
       "    <tr>\n",
       "      <th>Decision Tree</th>\n",
       "      <td>0.703469</td>\n",
       "      <td>0.581031</td>\n",
       "      <td>NA</td>\n",
       "    </tr>\n",
       "    <tr>\n",
       "      <th>SVM</th>\n",
       "      <td>0.703315</td>\n",
       "      <td>0.580988</td>\n",
       "      <td>NA</td>\n",
       "    </tr>\n",
       "    <tr>\n",
       "      <th>LogisticRegression</th>\n",
       "      <td>0.000000</td>\n",
       "      <td>0.000000</td>\n",
       "      <td>0</td>\n",
       "    </tr>\n",
       "  </tbody>\n",
       "</table>\n",
       "</div>"
      ],
      "text/plain": [
       "                     Jaccard  F1-score LogLoss\n",
       "Algorithm                                     \n",
       "KNN                 0.698127  0.586849      NA\n",
       "Decision Tree       0.703469  0.581031      NA\n",
       "SVM                 0.703315  0.580988      NA\n",
       "LogisticRegression  0.000000  0.000000       0"
      ]
     },
     "execution_count": 55,
     "metadata": {},
     "output_type": "execute_result"
    }
   ],
   "source": [
    "# Classification : SVM using \n",
    "# 4:08\n",
    "clf = svm.SVC(kernel='rbf', gamma=2)\n",
    "clf.fit(X_train, y_train)\n",
    "yhat = clf.predict(X_test)\n",
    "\n",
    "# Evaluation\n",
    "df_report.loc[['SVM'],['F1-score']] = f1_score(y_test, yhat, average='weighted') \n",
    "df_report.loc[['SVM'],['Jaccard']] = jaccard_similarity_score(y_test, yhat)\n",
    "df_report\n"
   ]
  },
  {
   "cell_type": "code",
   "execution_count": 56,
   "metadata": {},
   "outputs": [
    {
     "data": {
      "text/plain": [
       "array([0.70345194, 0.70345194, 0.70345194, 0.70345194])"
      ]
     },
     "execution_count": 56,
     "metadata": {},
     "output_type": "execute_result"
    }
   ],
   "source": [
    "# Classification : Logistic Regression\n",
    "# Import Library\n",
    "from sklearn.linear_model import LogisticRegression\n",
    "from sklearn.metrics import confusion_matrix\n",
    "\n",
    "# finding best numerical optimizer \n",
    "mean_lr = np.zeros(5)\n",
    "std_lr = np.zeros(5)\n",
    "\n",
    "for i, opt in enumerate(['newton-cg', 'lbfgs', 'liblinear', 'sag', 'saga']) :\n",
    "    LR = LogisticRegression(C=0.01, solver=opt).fit(X_train,y_train)\n",
    "    yhat = LR.predict(X_test)\n",
    "    yhat_prob = LR.predict_proba(X_test)\n",
    "    mean_lr[i] = metrics.accuracy_score(y_test, yhat)\n",
    "    std_lr[i]=np.std(yhat==y_test)/np.sqrt(yhat.shape[0])\n",
    "\n",
    "mean_lr\n"
   ]
  },
  {
   "cell_type": "code",
   "execution_count": null,
   "metadata": {},
   "outputs": [],
   "source": [
    "# Evaluation\n",
    "from sklearn.metrics import log_loss\n",
    "\n",
    "# Logistic Regression\n",
    "LR = LogisticRegression(C=0.01, solver='liblinear').fit(X_train,y_train)\n",
    "yhat = LR.predict(X_test)\n",
    "yhat_prob = LR.predict_proba(X_test)\n",
    "\n",
    "df_report.loc[['LogisticRegression'],['F1-score']] = f1_score(y_test, yhat, average='weighted') \n",
    "df_report.loc[['LogisticRegression'],['Jaccard']] = jaccard_similarity_score(y_test, yhat)\n",
    "df_report.loc[['LogisticRegression'],['LogLoss']] = log_loss(y_test, yhat_prob)\n",
    "df_report\n"
   ]
  },
  {
   "cell_type": "code",
   "execution_count": null,
   "metadata": {},
   "outputs": [],
   "source": []
  },
  {
   "cell_type": "code",
   "execution_count": null,
   "metadata": {},
   "outputs": [],
   "source": []
  },
  {
   "cell_type": "code",
   "execution_count": 66,
   "metadata": {},
   "outputs": [
    {
     "data": {
      "text/plain": [
       "WEATHER                   SEVERITYDESC                  \n",
       "Blowing Sand/Dirt         Property Damage Only Collision    0.689655\n",
       "                          Injury Collision                  0.310345\n",
       "Clear                     Property Damage Only Collision    0.648709\n",
       "                          Injury Collision                  0.351291\n",
       "Fog/Smog/Smoke            Property Damage Only Collision    0.632768\n",
       "                          Injury Collision                  0.367232\n",
       "Other                     Property Damage Only Collision    0.805755\n",
       "                          Injury Collision                  0.194245\n",
       "Overcast                  Property Damage Only Collision    0.652847\n",
       "                          Injury Collision                  0.347153\n",
       "Partly Cloudy             Injury Collision                  1.000000\n",
       "Raining                   Property Damage Only Collision    0.639959\n",
       "                          Injury Collision                  0.360041\n",
       "Severe Crosswind          Property Damage Only Collision    0.631579\n",
       "                          Injury Collision                  0.368421\n",
       "Sleet/Hail/Freezing Rain  Property Damage Only Collision    0.720588\n",
       "                          Injury Collision                  0.279412\n",
       "Snowing                   Property Damage Only Collision    0.743750\n",
       "                          Injury Collision                  0.256250\n",
       "Unknown                   Property Damage Only Collision    0.861976\n",
       "                          Injury Collision                  0.138024\n",
       "Name: SEVERITYDESC, dtype: float64"
      ]
     },
     "execution_count": 66,
     "metadata": {},
     "output_type": "execute_result"
    }
   ],
   "source": []
  },
  {
   "cell_type": "code",
   "execution_count": 36,
   "metadata": {},
   "outputs": [
    {
     "ename": "AttributeError",
     "evalue": "'DataFrame' object has no attribute 'counts'",
     "output_type": "error",
     "traceback": [
      "\u001b[0;31m---------------------------------------------------------------------------\u001b[0m",
      "\u001b[0;31mAttributeError\u001b[0m                            Traceback (most recent call last)",
      "\u001b[0;32m<ipython-input-36-dcd3836b396a>\u001b[0m in \u001b[0;36m<module>\u001b[0;34m\u001b[0m\n\u001b[1;32m      7\u001b[0m \u001b[0;31m# Filtered by value caounts of lcation to get location value multiple collision occured\u001b[0m\u001b[0;34m\u001b[0m\u001b[0;34m\u001b[0m\u001b[0;34m\u001b[0m\u001b[0m\n\u001b[1;32m      8\u001b[0m \u001b[0mdf_loc\u001b[0m \u001b[0;34m=\u001b[0m \u001b[0mpd\u001b[0m\u001b[0;34m.\u001b[0m\u001b[0mDataFrame\u001b[0m\u001b[0;34m(\u001b[0m\u001b[0mdf\u001b[0m\u001b[0;34m[\u001b[0m\u001b[0;34m'LOCATION'\u001b[0m\u001b[0;34m]\u001b[0m\u001b[0;34m.\u001b[0m\u001b[0mvalue_counts\u001b[0m\u001b[0;34m(\u001b[0m\u001b[0mdropna\u001b[0m\u001b[0;34m=\u001b[0m\u001b[0;32mTrue\u001b[0m\u001b[0;34m,\u001b[0m \u001b[0msort\u001b[0m\u001b[0;34m=\u001b[0m\u001b[0;32mTrue\u001b[0m\u001b[0;34m)\u001b[0m\u001b[0;34m.\u001b[0m\u001b[0mrename_axis\u001b[0m\u001b[0;34m(\u001b[0m\u001b[0;34m'LOCATION'\u001b[0m\u001b[0;34m)\u001b[0m\u001b[0;34m.\u001b[0m\u001b[0mreset_index\u001b[0m\u001b[0;34m(\u001b[0m\u001b[0mname\u001b[0m\u001b[0;34m=\u001b[0m\u001b[0;34m'INC_COUNTS'\u001b[0m\u001b[0;34m)\u001b[0m\u001b[0;34m)\u001b[0m\u001b[0;34m\u001b[0m\u001b[0;34m\u001b[0m\u001b[0m\n\u001b[0;32m----> 9\u001b[0;31m \u001b[0mdf_loc\u001b[0m \u001b[0;34m=\u001b[0m \u001b[0mdf_loc\u001b[0m\u001b[0;34m[\u001b[0m\u001b[0mdf_loc\u001b[0m\u001b[0;34m.\u001b[0m\u001b[0mcounts\u001b[0m \u001b[0;34m>\u001b[0m \u001b[0;36m3\u001b[0m\u001b[0;34m]\u001b[0m \u001b[0;31m# mean = 3\u001b[0m\u001b[0;34m\u001b[0m\u001b[0;34m\u001b[0m\u001b[0m\n\u001b[0m\u001b[1;32m     10\u001b[0m \u001b[0mdf_loc\u001b[0m\u001b[0;34m\u001b[0m\u001b[0;34m\u001b[0m\u001b[0m\n",
      "\u001b[0;32m/opt/conda/envs/Python36/lib/python3.6/site-packages/pandas/core/generic.py\u001b[0m in \u001b[0;36m__getattr__\u001b[0;34m(self, name)\u001b[0m\n\u001b[1;32m   5065\u001b[0m             \u001b[0;32mif\u001b[0m \u001b[0mself\u001b[0m\u001b[0;34m.\u001b[0m\u001b[0m_info_axis\u001b[0m\u001b[0;34m.\u001b[0m\u001b[0m_can_hold_identifiers_and_holds_name\u001b[0m\u001b[0;34m(\u001b[0m\u001b[0mname\u001b[0m\u001b[0;34m)\u001b[0m\u001b[0;34m:\u001b[0m\u001b[0;34m\u001b[0m\u001b[0;34m\u001b[0m\u001b[0m\n\u001b[1;32m   5066\u001b[0m                 \u001b[0;32mreturn\u001b[0m \u001b[0mself\u001b[0m\u001b[0;34m[\u001b[0m\u001b[0mname\u001b[0m\u001b[0;34m]\u001b[0m\u001b[0;34m\u001b[0m\u001b[0;34m\u001b[0m\u001b[0m\n\u001b[0;32m-> 5067\u001b[0;31m             \u001b[0;32mreturn\u001b[0m \u001b[0mobject\u001b[0m\u001b[0;34m.\u001b[0m\u001b[0m__getattribute__\u001b[0m\u001b[0;34m(\u001b[0m\u001b[0mself\u001b[0m\u001b[0;34m,\u001b[0m \u001b[0mname\u001b[0m\u001b[0;34m)\u001b[0m\u001b[0;34m\u001b[0m\u001b[0;34m\u001b[0m\u001b[0m\n\u001b[0m\u001b[1;32m   5068\u001b[0m \u001b[0;34m\u001b[0m\u001b[0m\n\u001b[1;32m   5069\u001b[0m     \u001b[0;32mdef\u001b[0m \u001b[0m__setattr__\u001b[0m\u001b[0;34m(\u001b[0m\u001b[0mself\u001b[0m\u001b[0;34m,\u001b[0m \u001b[0mname\u001b[0m\u001b[0;34m,\u001b[0m \u001b[0mvalue\u001b[0m\u001b[0;34m)\u001b[0m\u001b[0;34m:\u001b[0m\u001b[0;34m\u001b[0m\u001b[0;34m\u001b[0m\u001b[0m\n",
      "\u001b[0;31mAttributeError\u001b[0m: 'DataFrame' object has no attribute 'counts'"
     ]
    }
   ],
   "source": []
  },
  {
   "cell_type": "code",
   "execution_count": 35,
   "metadata": {
    "scrolled": false
   },
   "outputs": [
    {
     "data": {
      "text/plain": [
       "WEATHER                   SEVERITYDESC                  \n",
       "Blowing Sand/Dirt         Property Damage Only Collision    0.723404\n",
       "                          Injury Collision                  0.276596\n",
       "Clear                     Property Damage Only Collision    0.672246\n",
       "                          Injury Collision                  0.327754\n",
       "Fog/Smog/Smoke            Property Damage Only Collision    0.657895\n",
       "                          Injury Collision                  0.342105\n",
       "Other                     Property Damage Only Collision    0.848774\n",
       "                          Injury Collision                  0.151226\n",
       "Overcast                  Property Damage Only Collision    0.679363\n",
       "                          Injury Collision                  0.320637\n",
       "Partly Cloudy             Injury Collision                  0.750000\n",
       "                          Property Damage Only Collision    0.250000\n",
       "Raining                   Property Damage Only Collision    0.657977\n",
       "                          Injury Collision                  0.342023\n",
       "Severe Crosswind          Property Damage Only Collision    0.720000\n",
       "                          Injury Collision                  0.280000\n",
       "Sleet/Hail/Freezing Rain  Property Damage Only Collision    0.761905\n",
       "                          Injury Collision                  0.238095\n",
       "Snowing                   Property Damage Only Collision    0.809353\n",
       "                          Injury Collision                  0.190647\n",
       "Unknown                   Property Damage Only Collision    0.940868\n",
       "                          Injury Collision                  0.059132\n",
       "Name: SEVERITYDESC, dtype: float64"
      ]
     },
     "execution_count": 35,
     "metadata": {},
     "output_type": "execute_result"
    }
   ],
   "source": []
  },
  {
   "cell_type": "code",
   "execution_count": null,
   "metadata": {},
   "outputs": [],
   "source": []
  }
 ],
 "metadata": {
  "kernelspec": {
   "display_name": "Python 3",
   "language": "python",
   "name": "python3"
  },
  "language_info": {
   "codemirror_mode": {
    "name": "ipython",
    "version": 3
   },
   "file_extension": ".py",
   "mimetype": "text/x-python",
   "name": "python",
   "nbconvert_exporter": "python",
   "pygments_lexer": "ipython3",
   "version": "3.7.6"
  }
 },
 "nbformat": 4,
 "nbformat_minor": 1
}
